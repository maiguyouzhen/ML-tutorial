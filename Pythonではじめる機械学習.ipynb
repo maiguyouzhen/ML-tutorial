{
 "cells": [
  {
   "cell_type": "markdown",
   "id": "612d5300",
   "metadata": {},
   "source": [
    "# 1章はじめに"
   ]
  },
  {
   "cell_type": "markdown",
   "id": "c1bf785f",
   "metadata": {},
   "source": [
    "## 1.4 必要なライブラリとツール"
   ]
  },
  {
   "cell_type": "markdown",
   "id": "1643090a",
   "metadata": {},
   "source": [
    "#### 1.4.2 NumPy"
   ]
  },
  {
   "cell_type": "code",
   "execution_count": 18,
   "id": "e2abf422",
   "metadata": {},
   "outputs": [
    {
     "name": "stdout",
     "output_type": "stream",
     "text": [
      "x:\n",
      "[[1 2 3]\n",
      " [4 5 6]]\n"
     ]
    }
   ],
   "source": [
    "import numpy as np\n",
    "\n",
    "x = np.array([[1, 2, 3], [4, 5, 6]])\n",
    "print(\"x:\\n{}\".format(x)) "
   ]
  },
  {
   "cell_type": "markdown",
   "id": "edfb27f3",
   "metadata": {},
   "source": [
    "#### 1.4.3 SciPy"
   ]
  },
  {
   "cell_type": "code",
   "execution_count": 19,
   "id": "a6185af3",
   "metadata": {},
   "outputs": [
    {
     "name": "stdout",
     "output_type": "stream",
     "text": [
      "[[1. 0. 0. 0.]\n",
      " [0. 1. 0. 0.]\n",
      " [0. 0. 1. 0.]\n",
      " [0. 0. 0. 1.]]\n"
     ]
    }
   ],
   "source": [
    "from scipy import sparse\n",
    "# 2次元単位行列の作成\n",
    "eye = np.eye(4)\n",
    "print(eye)"
   ]
  },
  {
   "cell_type": "code",
   "execution_count": 20,
   "id": "ced980c6",
   "metadata": {},
   "outputs": [
    {
     "name": "stdout",
     "output_type": "stream",
     "text": [
      "  (0, 0)\t1.0\n",
      "  (1, 1)\t1.0\n",
      "  (2, 2)\t1.0\n",
      "  (3, 3)\t1.0\n"
     ]
    }
   ],
   "source": [
    "# Numpy行列をScipyのCSR形式の疎行列に変換\n",
    "sparse_matrix = sparse.csr_matrix(eye)\n",
    "print(sparse_matrix)"
   ]
  },
  {
   "cell_type": "code",
   "execution_count": 21,
   "id": "e9709d12",
   "metadata": {},
   "outputs": [
    {
     "name": "stdout",
     "output_type": "stream",
     "text": [
      "[1. 1. 1. 1.]\n",
      "  (0, 0)\t1.0\n",
      "  (1, 1)\t1.0\n",
      "  (2, 2)\t1.0\n",
      "  (3, 3)\t1.0\n"
     ]
    }
   ],
   "source": [
    "# 上のものと同じ疎行列をCOO形式で作成\n",
    "data = np.ones(4)\n",
    "print(data)\n",
    "row_indices = np.arange(4)\n",
    "col_indices = np.arange(4)\n",
    "eye_coo = sparse.coo_matrix((data, (row_indices, col_indices)))\n",
    "print(eye_coo)"
   ]
  },
  {
   "cell_type": "markdown",
   "id": "20d38a54",
   "metadata": {},
   "source": [
    "#### 参考：Python, SciPy（scipy.sparse）で疎行列を生成・変換\n",
    "https://note.nkmk.me/python-scipy-sparse-matrix-csr-csc-coo-lil/\n",
    "\n",
    "データから疎行列を生成 → COO\n",
    "<br>\n",
    "算術演算や行列積計算 → CSR\n",
    "<br>\n",
    "要素の追加・更新 → LIL\n",
    "<br>\n",
    "行の取得 → CSRかLIL\n",
    "<br>\n",
    "列の取得 → CSC\n",
    "<br>\n",
    "要素・部分行列の取得 → LIL"
   ]
  },
  {
   "cell_type": "code",
   "execution_count": 22,
   "id": "88ac1ce2",
   "metadata": {},
   "outputs": [],
   "source": [
    "from scipy.sparse import csr_matrix, csc_matrix, coo_matrix, lil_matrix\n",
    "\n",
    "l = [\n",
    "    [0, 10, 20],\n",
    "    [30, 0, 40],\n",
    "    [0, 0, 50]]"
   ]
  },
  {
   "cell_type": "code",
   "execution_count": 23,
   "id": "2cde2aa6",
   "metadata": {},
   "outputs": [],
   "source": [
    "data = [10, 20, 30, 40, 50]\n",
    "row = [0, 0, 1, 1, 2]\n",
    "col = [1, 2, 0, 2, 2]"
   ]
  },
  {
   "cell_type": "code",
   "execution_count": 36,
   "id": "bf697e7a",
   "metadata": {},
   "outputs": [
    {
     "name": "stdout",
     "output_type": "stream",
     "text": [
      "  (0, 1)\t10\n",
      "  (0, 2)\t20\n",
      "  (1, 0)\t30\n",
      "  (1, 2)\t40\n",
      "  (2, 2)\t50\n",
      "値: [10 20 30 40 50]\n",
      "列: [1 2 0 2 2]\n",
      "行のリストが圧縮: [0 2 4 5]\n"
     ]
    }
   ],
   "source": [
    "# CSR: scipy.sparse.csr_matrix\n",
    "#Compressed Sparse Rowの略。圧縮行格納方式。最もスタンダードな方式\n",
    "csr = csr_matrix(l)\n",
    "print(csr)\n",
    "print('値:', csr.data)\n",
    "print('列:',csr.indices)\n",
    "print('行のリストが圧縮:',csr.indptr)\n",
    "#i行のデータがdata, indicesのindptr[i]:indptr[i+1]に格納されていることを意味している。\n",
    "#例の場合、0行目のデータが0:2、1行目のデータが2:4、2行目のデータが4:5。"
   ]
  },
  {
   "cell_type": "code",
   "execution_count": 46,
   "id": "37e24cd9",
   "metadata": {},
   "outputs": [
    {
     "name": "stdout",
     "output_type": "stream",
     "text": [
      "  (1, 0)\t30\n",
      "  (0, 1)\t10\n",
      "  (0, 2)\t20\n",
      "  (1, 2)\t40\n",
      "  (2, 2)\t50\n",
      "値: [30 10 20 40 50]\n",
      "行: [1 0 0 1 2]\n",
      "列のリストが圧縮: [0 1 2 5]\n"
     ]
    }
   ],
   "source": [
    "# CSC: scipy.sparse.csc_matrix\n",
    "# Compressed Sparse Columnの略。圧縮列格納方式。\n",
    "csc = csc_matrix(l)\n",
    "print(csc)\n",
    "print('値:', csc.data)\n",
    "print('行:',csc.indices)\n",
    "print('列のリストが圧縮:',csc.indptr)\n",
    "# CSCはCSRの列バージョン。\n",
    "# CSRは行単位でデータが左から右、上から下の順番で格納されていたが、CSCは列単位なので上から下、左から右の順番となる。\n",
    "# indptrの圧縮の考え方はCSRと同じ。"
   ]
  },
  {
   "cell_type": "code",
   "execution_count": 49,
   "id": "16e6270b",
   "metadata": {},
   "outputs": [
    {
     "name": "stdout",
     "output_type": "stream",
     "text": [
      "  (0, 1)\t10\n",
      "  (0, 2)\t20\n",
      "  (1, 0)\t30\n",
      "  (1, 2)\t40\n",
      "  (2, 2)\t50\n",
      "値: [30 10 20 40 50]\n",
      "行: [0 0 1 1 2]\n",
      "列: [1 2 0 2 2]\n"
     ]
    }
   ],
   "source": [
    "# COO: scipy.sparse.coo_matrix COOはCoordinateの略。\n",
    "coo = coo_matrix(l)\n",
    "print(coo)\n",
    "print('値:', csc.data)\n",
    "print('行:',coo.row)\n",
    "print('列:',coo.col)\n",
    "# 値、および、行・列のインデックスのリストがそのまま格納されている。\n",
    "# オブジェクトの生成は高速だが算術演算などはサポートされていない。\n",
    "# CSRやCSCへの変換も高速なので、COOを生成後、CSRに変換し演算を行うのが基本的な使い方。"
   ]
  },
  {
   "cell_type": "markdown",
   "id": "d47e354b",
   "metadata": {},
   "source": [
    "SciPyで疎行列を生成・変換\n",
    "<br>\n",
    "リスト、numpy.ndarrayと相互変換"
   ]
  },
  {
   "cell_type": "code",
   "execution_count": 52,
   "id": "e7482db3",
   "metadata": {},
   "outputs": [
    {
     "name": "stdout",
     "output_type": "stream",
     "text": [
      "  (0, 1)\t10\n",
      "  (0, 2)\t20\n",
      "  (1, 0)\t30\n",
      "  (1, 2)\t40\n",
      "<class 'scipy.sparse.csr.csr_matrix'>\n",
      "(3, 3)\n"
     ]
    }
   ],
   "source": [
    "l = [[0, 10, 20],\n",
    "     [30, 0, 40],\n",
    "     [0, 0, 0]]\n",
    "csr = csr_matrix(l)\n",
    "print(csr)\n",
    "print(type(csr))\n",
    "print(csr.shape)"
   ]
  },
  {
   "cell_type": "code",
   "execution_count": 63,
   "id": "354cc53c",
   "metadata": {},
   "outputs": [
    {
     "name": "stdout",
     "output_type": "stream",
     "text": [
      "1\n",
      "  (0, 0)\t1\n",
      "  (0, 1)\t1\n",
      "  (0, 2)\t2\n",
      "(1, 3)\n"
     ]
    }
   ],
   "source": [
    "# numpy.ndarrayからscipy.sparseのクラスに変換\n",
    "a = np.array(1)\n",
    "print(a)\n",
    "csr = csr_matrix(a)\n",
    "print(csr)\n",
    "print(csr_matrix([0, 1, 2]))\n",
    "print(csr_matrix([0, 1, 2]).shape)\n"
   ]
  },
  {
   "cell_type": "code",
   "execution_count": 68,
   "id": "c012378b",
   "metadata": {},
   "outputs": [
    {
     "name": "stdout",
     "output_type": "stream",
     "text": [
      "[[1]]\n",
      "<class 'numpy.ndarray'>\n",
      "[[1]]\n",
      "<class 'numpy.matrix'>\n"
     ]
    }
   ],
   "source": [
    "# scipy.sparseのクラスからnumpy.ndarrayに変換\n",
    "print(csr.toarray())\n",
    "print(type(csr.toarray()))\n",
    "# numpy.matrixに変換される。\n",
    "print(csr.todense())\n",
    "print(type(csr.todense()))"
   ]
  },
  {
   "cell_type": "markdown",
   "id": "e10e6a8e",
   "metadata": {},
   "source": [
    "値、行、列のリストから生成"
   ]
  },
  {
   "cell_type": "code",
   "execution_count": null,
   "id": "4e1f2bc5",
   "metadata": {},
   "outputs": [],
   "source": []
  },
  {
   "cell_type": "code",
   "execution_count": null,
   "id": "74a4c734",
   "metadata": {},
   "outputs": [],
   "source": []
  }
 ],
 "metadata": {
  "kernelspec": {
   "display_name": "Python 3 (ipykernel)",
   "language": "python",
   "name": "python3"
  },
  "language_info": {
   "codemirror_mode": {
    "name": "ipython",
    "version": 3
   },
   "file_extension": ".py",
   "mimetype": "text/x-python",
   "name": "python",
   "nbconvert_exporter": "python",
   "pygments_lexer": "ipython3",
   "version": "3.9.7"
  }
 },
 "nbformat": 4,
 "nbformat_minor": 5
}
