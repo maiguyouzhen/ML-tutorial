{
 "cells": [
  {
   "cell_type": "markdown",
   "id": "612d5300",
   "metadata": {},
   "source": [
    "# 1章はじめに"
   ]
  },
  {
   "cell_type": "markdown",
   "id": "c1bf785f",
   "metadata": {},
   "source": [
    "## 1.4 必要なライブラリとツール"
   ]
  },
  {
   "cell_type": "markdown",
   "id": "1643090a",
   "metadata": {},
   "source": [
    "#### 1.4.2 NumPy"
   ]
  },
  {
   "cell_type": "code",
   "execution_count": 15,
   "id": "e2abf422",
   "metadata": {},
   "outputs": [
    {
     "name": "stdout",
     "output_type": "stream",
     "text": [
      "x:\n",
      "[[1 2 3]\n",
      " [4 5 6]]\n"
     ]
    }
   ],
   "source": [
    "import numpy as np\n",
    "\n",
    "x = np.array([[1, 2, 3], [4, 5, 6]])\n",
    "print(\"x:\\n{}\".format(x)) "
   ]
  },
  {
   "cell_type": "markdown",
   "id": "edfb27f3",
   "metadata": {},
   "source": [
    "#### 1.4.3 SciPy"
   ]
  },
  {
   "cell_type": "code",
   "execution_count": 16,
   "id": "a6185af3",
   "metadata": {},
   "outputs": [
    {
     "name": "stdout",
     "output_type": "stream",
     "text": [
      "[[1. 0. 0. 0.]\n",
      " [0. 1. 0. 0.]\n",
      " [0. 0. 1. 0.]\n",
      " [0. 0. 0. 1.]]\n"
     ]
    }
   ],
   "source": [
    "from scipy import sparse\n",
    "# 2次元単位行列の作成\n",
    "eye = np.eye(4)\n",
    "print(eye)"
   ]
  },
  {
   "cell_type": "code",
   "execution_count": 17,
   "id": "ced980c6",
   "metadata": {},
   "outputs": [
    {
     "name": "stdout",
     "output_type": "stream",
     "text": [
      "  (0, 0)\t1.0\n",
      "  (1, 1)\t1.0\n",
      "  (2, 2)\t1.0\n",
      "  (3, 3)\t1.0\n"
     ]
    }
   ],
   "source": [
    "# Numpy行列をScipyのCSR形式の疎行列に変換\n",
    "sparse_matrix = sparse.csr_matrix(eye)\n",
    "print(sparse_matrix)"
   ]
  },
  {
   "cell_type": "code",
   "execution_count": 18,
   "id": "e9709d12",
   "metadata": {},
   "outputs": [
    {
     "name": "stdout",
     "output_type": "stream",
     "text": [
      "[1. 1. 1. 1.]\n",
      "  (0, 0)\t1.0\n",
      "  (1, 1)\t1.0\n",
      "  (2, 2)\t1.0\n",
      "  (3, 3)\t1.0\n"
     ]
    }
   ],
   "source": [
    "# 上のものと同じ疎行列をCOO形式で作成\n",
    "data = np.ones(4)\n",
    "print(data)\n",
    "row_indices = np.arange(4)\n",
    "col_indices = np.arange(4)\n",
    "eye_coo = sparse.coo_matrix((data, (row_indices, col_indices)))\n",
    "print(eye_coo)"
   ]
  },
  {
   "cell_type": "markdown",
   "id": "20d38a54",
   "metadata": {},
   "source": [
    "#### 参考：Python, SciPy（scipy.sparse）で疎行列を生成・変換\n",
    "\n"
   ]
  },
  {
   "cell_type": "markdown",
   "id": "5352aa59",
   "metadata": {},
   "source": [
    "https://note.nkmk.me/python-scipy-sparse-matrix-csr-csc-coo-lil/"
   ]
  },
  {
   "cell_type": "markdown",
   "id": "d3d53880",
   "metadata": {},
   "source": [
    "##### SciPy（scipy.sparse）の疎行列クラスの種類\n"
   ]
  },
  {
   "cell_type": "markdown",
   "id": "6d350337",
   "metadata": {},
   "source": [
    "データから疎行列を生成 → COO\n",
    "<br>\n",
    "算術演算や行列積計算 → CSR\n",
    "<br>\n",
    "要素の追加・更新 → LIL\n",
    "<br>\n",
    "行の取得 → CSRかLIL\n",
    "<br>\n",
    "列の取得 → CSC\n",
    "<br>\n",
    "要素・部分行列の取得 → LIL"
   ]
  },
  {
   "cell_type": "code",
   "execution_count": 19,
   "id": "88ac1ce2",
   "metadata": {},
   "outputs": [],
   "source": [
    "from scipy.sparse import csr_matrix, csc_matrix, coo_matrix, lil_matrix\n",
    "\n",
    "l = [\n",
    "    [0, 10, 20],\n",
    "    [30, 0, 40],\n",
    "    [0, 0, 50]]\n",
    "\n",
    "data = [10, 20, 30, 40, 50]\n",
    "row = [0, 0, 1, 1, 2]\n",
    "col = [1, 2, 0, 2, 2]"
   ]
  },
  {
   "cell_type": "code",
   "execution_count": 20,
   "id": "bf697e7a",
   "metadata": {},
   "outputs": [
    {
     "name": "stdout",
     "output_type": "stream",
     "text": [
      "  (0, 1)\t10\n",
      "  (0, 2)\t20\n",
      "  (1, 0)\t30\n",
      "  (1, 2)\t40\n",
      "  (2, 2)\t50\n",
      "値: [10 20 30 40 50]\n",
      "列: [1 2 0 2 2]\n",
      "行のリストが圧縮: [0 2 4 5]\n"
     ]
    }
   ],
   "source": [
    "# CSR: scipy.sparse.csr_matrix\n",
    "#Compressed Sparse Rowの略。圧縮行格納方式。最もスタンダードな方式\n",
    "csr = csr_matrix(l)\n",
    "print(csr)\n",
    "print('値:', csr.data)\n",
    "print('列:',csr.indices)\n",
    "print('行のリストが圧縮:',csr.indptr)\n",
    "#i行のデータがdata, indicesのindptr[i]:indptr[i+1]に格納されていることを意味している。\n",
    "#例の場合、0行目のデータが0:2、1行目のデータが2:4、2行目のデータが4:5。"
   ]
  },
  {
   "cell_type": "code",
   "execution_count": 21,
   "id": "37e24cd9",
   "metadata": {},
   "outputs": [
    {
     "name": "stdout",
     "output_type": "stream",
     "text": [
      "  (1, 0)\t30\n",
      "  (0, 1)\t10\n",
      "  (0, 2)\t20\n",
      "  (1, 2)\t40\n",
      "  (2, 2)\t50\n",
      "値: [30 10 20 40 50]\n",
      "行: [1 0 0 1 2]\n",
      "列のリストが圧縮: [0 1 2 5]\n"
     ]
    }
   ],
   "source": [
    "# CSC: scipy.sparse.csc_matrix\n",
    "# Compressed Sparse Columnの略。圧縮列格納方式。\n",
    "csc = csc_matrix(l)\n",
    "print(csc)\n",
    "print('値:', csc.data)\n",
    "print('行:',csc.indices)\n",
    "print('列のリストが圧縮:',csc.indptr)\n",
    "# CSCはCSRの列バージョン。\n",
    "# CSRは行単位でデータが左から右、上から下の順番で格納されていたが、CSCは列単位なので上から下、左から右の順番となる。\n",
    "# indptrの圧縮の考え方はCSRと同じ。"
   ]
  },
  {
   "cell_type": "code",
   "execution_count": 22,
   "id": "16e6270b",
   "metadata": {},
   "outputs": [
    {
     "name": "stdout",
     "output_type": "stream",
     "text": [
      "  (0, 1)\t10\n",
      "  (0, 2)\t20\n",
      "  (1, 0)\t30\n",
      "  (1, 2)\t40\n",
      "  (2, 2)\t50\n",
      "値: [30 10 20 40 50]\n",
      "行: [0 0 1 1 2]\n",
      "列: [1 2 0 2 2]\n"
     ]
    }
   ],
   "source": [
    "# COO: scipy.sparse.coo_matrix COOはCoordinateの略。\n",
    "coo = coo_matrix(l)\n",
    "print(coo)\n",
    "print('値:', csc.data)\n",
    "print('行:',coo.row)\n",
    "print('列:',coo.col)\n",
    "# 値、および、行・列のインデックスのリストがそのまま格納されている。\n",
    "# オブジェクトの生成は高速だが算術演算などはサポートされていない。\n",
    "# CSRやCSCへの変換も高速なので、COOを生成後、CSRに変換し演算を行うのが基本的な使い方。"
   ]
  },
  {
   "cell_type": "markdown",
   "id": "f8d6526c",
   "metadata": {},
   "source": [
    "##### SciPyで疎行列を生成・変換(リスト、numpy.ndarrayと相互変換)"
   ]
  },
  {
   "cell_type": "code",
   "execution_count": 49,
   "id": "e7482db3",
   "metadata": {},
   "outputs": [
    {
     "name": "stdout",
     "output_type": "stream",
     "text": [
      "リストから作成\n",
      "   (0, 1)\t10\n",
      "  (0, 2)\t20\n",
      "  (1, 0)\t30\n",
      "  (1, 2)\t40\n",
      "<class 'scipy.sparse.csr.csr_matrix'>\n",
      "(3, 3)\n"
     ]
    }
   ],
   "source": [
    "# リストと相互変換\n",
    "l = [[0, 10, 20],\n",
    "     [30, 0, 40],\n",
    "     [0, 0, 0]]\n",
    "csr = csr_matrix(l)\n",
    "print('リストから作成\\n', csr)\n",
    "print(type(csr))\n",
    "print(csr.shape)"
   ]
  },
  {
   "cell_type": "code",
   "execution_count": 53,
   "id": "354cc53c",
   "metadata": {},
   "outputs": [
    {
     "name": "stdout",
     "output_type": "stream",
     "text": [
      "numpy配列\n",
      " [[ 0 10 20]\n",
      " [30  0 40]\n",
      " [ 0  0  0]]\n",
      "<class 'numpy.ndarray'>\n",
      "numpyから作成\n",
      "   (0, 1)\t10\n",
      "  (0, 2)\t20\n",
      "  (1, 0)\t30\n",
      "  (1, 2)\t40\n"
     ]
    }
   ],
   "source": [
    "# numpy.ndarrayからscipy.sparseのクラスに変換\n",
    "a = np.array(l)\n",
    "print('numpy配列\\n', a)\n",
    "print(type(a))\n",
    "\n",
    "csr = csr_matrix(a)\n",
    "print('numpyから作成\\n', csr)\n"
   ]
  },
  {
   "cell_type": "code",
   "execution_count": 56,
   "id": "47b57dca",
   "metadata": {},
   "outputs": [
    {
     "name": "stdout",
     "output_type": "stream",
     "text": [
      "1次元のリスト\n",
      "   (0, 1)\t1\n",
      "  (0, 2)\t2\n",
      "(1, 3)\n"
     ]
    }
   ],
   "source": [
    "# 1次元のリストやnumpy.ndarrayは1行の行列とみなされる。3次元以上だとエラー。\n",
    "print('1次元のリスト\\n', csr_matrix([0, 1, 2]))\n",
    "print(csr_matrix([0, 1, 2]).shape)"
   ]
  },
  {
   "cell_type": "code",
   "execution_count": 59,
   "id": "90de2223",
   "metadata": {},
   "outputs": [
    {
     "name": "stdout",
     "output_type": "stream",
     "text": [
      "[[ 0 10 20]\n",
      " [30  0 40]\n",
      " [ 0  0  0]]\n",
      "<class 'scipy.sparse.csr.csr_matrix'>\n"
     ]
    }
   ],
   "source": [
    "# scipy.sparseのクラスからnumpy.ndarrayに変換\n",
    "# toarray()メソッド\n",
    "print(csr.toarray())\n",
    "print(type(csr.toarray()))"
   ]
  },
  {
   "cell_type": "code",
   "execution_count": 61,
   "id": "ba35bece",
   "metadata": {},
   "outputs": [
    {
     "name": "stdout",
     "output_type": "stream",
     "text": [
      "[[0, 10, 20], [30, 0, 40], [0, 0, 0]]\n",
      "<class 'list'>\n"
     ]
    }
   ],
   "source": [
    "# scipy.sparseのクラスからリストに変換\n",
    "# tolist()\n",
    "print(csr.toarray().tolist())\n",
    "print(type(csr.toarray().tolist()))\n"
   ]
  },
  {
   "cell_type": "markdown",
   "id": "e10e6a8e",
   "metadata": {},
   "source": [
    "値、行、列のリストから生成\n",
    "<br>\n",
    "値、行、列のリストがそれぞれdata, row, column"
   ]
  },
  {
   "cell_type": "code",
   "execution_count": 63,
   "id": "74a4c734",
   "metadata": {},
   "outputs": [
    {
     "name": "stdout",
     "output_type": "stream",
     "text": [
      "[[ 0 10 20]\n",
      " [30  0 40]\n",
      " [ 0  0  0]]\n",
      "<class 'numpy.matrix'>\n"
     ]
    }
   ],
   "source": [
    "# scipy.sparseからnumpy.matrixに変換\n",
    "# todense()\n",
    "print(csr.todense())\n",
    "print(type(csr.todense()))"
   ]
  },
  {
   "cell_type": "markdown",
   "id": "173e47b6",
   "metadata": {},
   "source": [
    "##### SciPyで疎行列を生成・変換(値、行、列のリストから生成)"
   ]
  },
  {
   "cell_type": "code",
   "execution_count": 79,
   "id": "274eb4fe",
   "metadata": {},
   "outputs": [
    {
     "name": "stdout",
     "output_type": "stream",
     "text": [
      "scipy.sparse\n",
      "   (0, 1)\t10\n",
      "  (0, 2)\t20\n",
      "  (1, 0)\t30\n",
      "  (1, 2)\t40\n",
      "<class 'scipy.sparse.csr.csr_matrix'>\n",
      "numpy.ndarray\n",
      " [[ 0 10 20]\n",
      " [30  0 40]]\n",
      "<class 'numpy.ndarray'>\n",
      "numpy.ndarrayで形状指定\n",
      " [[ 0 10 20]\n",
      " [30  0 40]\n",
      " [ 0  0  0]]\n"
     ]
    }
   ],
   "source": [
    "# 値、行、列のリストがそれぞれdata, row, column\n",
    "data = [10, 20, 30, 40]\n",
    "row = [0, 0, 1, 1]\n",
    "col = [1, 2, 0, 2]\n",
    "\n",
    "print('scipy.sparse\\n', csr_matrix((data, (row, col))))\n",
    "print(type(csr_matrix((data, (row, col)))))\n",
    "print('numpy.ndarray\\n',csr_matrix((data, (row,col))).toarray())\n",
    "print(type(csr_matrix((data, (row,col))).toarray()))\n",
    "print('numpy.ndarrayで形状指定\\n', csr_matrix((data, (row, col)), shape=(3, 3)).toarray())\n",
    "\n"
   ]
  },
  {
   "cell_type": "code",
   "execution_count": null,
   "id": "b07990df",
   "metadata": {},
   "outputs": [],
   "source": []
  }
 ],
 "metadata": {
  "kernelspec": {
   "display_name": "Python 3 (ipykernel)",
   "language": "python",
   "name": "python3"
  },
  "language_info": {
   "codemirror_mode": {
    "name": "ipython",
    "version": 3
   },
   "file_extension": ".py",
   "mimetype": "text/x-python",
   "name": "python",
   "nbconvert_exporter": "python",
   "pygments_lexer": "ipython3",
   "version": "3.9.7"
  }
 },
 "nbformat": 4,
 "nbformat_minor": 5
}
